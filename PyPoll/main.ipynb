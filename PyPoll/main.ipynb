{
 "cells": [
  {
   "cell_type": "code",
   "execution_count": 182,
   "metadata": {},
   "outputs": [],
   "source": [
    "#import\n",
    "\n",
    "import os\n",
    "import csv\n",
    "from pathlib import Path"
   ]
  },
  {
   "cell_type": "code",
   "execution_count": 183,
   "metadata": {},
   "outputs": [],
   "source": [
    "csvpath = os.path.join(\"Resources\", \"election_data.csv\")\n",
    "csvpath\n",
    "\n",
    "output_file = os.path.join(\"analysis\", \"election_data_analysis.txt\")"
   ]
  },
  {
   "cell_type": "code",
   "execution_count": 184,
   "metadata": {},
   "outputs": [],
   "source": [
    "total_votes = 0\n",
    "list_of_candidates = []\n",
    "candidate_votes = {}\n",
    "winner = \"\"\n",
    "winning_vote_count = 0\n"
   ]
  },
  {
   "cell_type": "code",
   "execution_count": 185,
   "metadata": {},
   "outputs": [
    {
     "name": "stdout",
     "output_type": "stream",
     "text": [
      "Election Results\n",
      "-------------------------\n",
      "Total Votes: 369711\n",
      "-------------------------\n",
      "\n",
      "Charles Casper Stockham: 23.049% (85213)\n",
      "\n",
      "Diana DeGette: 73.812% (272892)\n",
      "\n",
      "Raymon Anthony Doane: 3.139% (11606)\n",
      "\n",
      "-------------------------\n",
      "Winner: Diana DeGette\n",
      "-------------------------\n",
      "\n"
     ]
    }
   ],
   "source": [
    "#open csv file\n",
    "with open(csvpath) as csvfile:\n",
    "    csvreader = csv.reader(csvfile, delimiter=',')\n",
    "    #print(csvreader)\n",
    "\n",
    "    csv_header=next(csvreader)\n",
    "    #print(csv_header)\n",
    "\n",
    "    for row in csvreader:\n",
    "        #print(row)\n",
    "\n",
    "\n",
    "        #track the total votes\n",
    "\n",
    "        total_votes = total_votes + 1\n",
    "        #print(total_votes)\n",
    "        \n",
    "\n",
    "        #extract candidate name from list\n",
    "\n",
    "        candidate_name = row[2]\n",
    "        #print(candidate_name)\n",
    "\n",
    "        if candidate_name not in list_of_candidates:\n",
    "            list_of_candidates.append(candidate_name)\n",
    "\n",
    "            candidate_votes[candidate_name] = 0\n",
    "        \n",
    "        candidate_votes[candidate_name] = candidate_votes[candidate_name] + 1\n",
    "\n",
    "\n",
    "with open(output_file, \"w\") as txt_file:\n",
    "\n",
    "    election_results = (\n",
    "\n",
    "        f\"Election Results\\n\"\n",
    "        f\"-------------------------\\n\"\n",
    "        f\"Total Votes: {total_votes}\\n\"\n",
    "        f\"-------------------------\\n\")\n",
    "    print (election_results)\n",
    "    \n",
    "\n",
    "    txt_file.write(election_results)\n",
    "\n",
    "#winner loop\n",
    "\n",
    "    for candidate in candidate_votes:\n",
    "        votes = candidate_votes.get(candidate)\n",
    "        percentage_of_votes = float(votes) / float(total_votes) *100\n",
    "\n",
    "        if (votes > winning_vote_count):\n",
    "            winning_vote_count = votes\n",
    "            winner = candidate\n",
    "\n",
    "            #list of candidates and percentage vote to terminal\n",
    "\n",
    "        voter_list=f\"{candidate}: {percentage_of_votes:.3f}% ({votes})\\n\"\n",
    "        print(voter_list)\n",
    "\n",
    "        #text file\n",
    "\n",
    "        txt_file.write(voter_list)\n",
    "\n",
    "    winning_candidate_results = (\n",
    "    f\"-------------------------\\n\"\n",
    "    f\"Winner: {winner}\\n\"\n",
    "    f\"-------------------------\\n\")\n",
    "    print(winning_candidate_results)\n",
    "    txt_file.write(winning_candidate_results)\n",
    "\n",
    "\n"
   ]
  }
 ],
 "metadata": {
  "kernelspec": {
   "display_name": "base",
   "language": "python",
   "name": "python3"
  },
  "language_info": {
   "codemirror_mode": {
    "name": "ipython",
    "version": 3
   },
   "file_extension": ".py",
   "mimetype": "text/x-python",
   "name": "python",
   "nbconvert_exporter": "python",
   "pygments_lexer": "ipython3",
   "version": "3.9.13"
  },
  "orig_nbformat": 4,
  "vscode": {
   "interpreter": {
    "hash": "8fa5f0e0f5d74cdb641a71ae9b4e2c34e19f8f44457395ee12053bc47467c04d"
   }
  }
 },
 "nbformat": 4,
 "nbformat_minor": 2
}
